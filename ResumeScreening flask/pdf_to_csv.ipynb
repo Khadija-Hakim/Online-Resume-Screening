{
 "cells": [
  {
   "cell_type": "code",
   "execution_count": 1,
   "id": "d23b90f6",
   "metadata": {},
   "outputs": [],
   "source": [
    "\n",
    "import tabula\n",
    "import pandas as pd\n",
    "import glob\n",
    "import fitz # install using: pip install PyMuPDF\n",
    "from csv import writer\n",
    "from tabula import read_pdf\n",
    "import pandas as pd\n",
    "import tabula\n",
    "import sys\n",
    "import csv\n",
    "# dtype=np.int64\n",
    "# csv.field_size_limit(sys.maxsize)\n",
    "maxInt = sys.maxsize\n",
    "\n",
    "while True:\n",
    "    # decrease the maxInt value by factor 10 \n",
    "    # as long as the OverflowError occurs.\n",
    "\n",
    "    try:\n",
    "        csv.field_size_limit(maxInt)\n",
    "        break\n",
    "    except OverflowError:\n",
    "        maxInt = int(maxInt/10)\n",
    "import textract\n",
    "\n"
   ]
  },
  {
   "cell_type": "code",
   "execution_count": 2,
   "id": "6980e973",
   "metadata": {},
   "outputs": [],
   "source": [
    "def pdf_j():\n",
    "    path = r'static/job_des'\n",
    "    all_files = glob.glob(path + \"/*.pdf\")\n",
    "    for pdf in all_files:\n",
    "        with fitz.open(pdf) as doc:\n",
    "            pypdf_text = \"\"\n",
    "            for page in doc:\n",
    "                pypdf_text += page.getText()\n",
    "# Append into csv file...................\n",
    "                List =[pypdf_text]\n",
    "        with open('static/job_des/job_Test.csv', 'a',encoding=\"utf-8\") as f_object:\n",
    "            writer_object = writer(f_object)\n",
    "            writer_object.writerow(List)\n",
    "            f_object.close()\n",
    "\n",
    "def dataset_j():\n",
    "        with open('static/job_des/job_Test.csv' ,encoding=\"utf-8\") as input, open('static/job_des/job_Test_Final.csv', 'w', newline='' ,encoding=\"utf-8\")as output:\n",
    "            writer = csv.writer(output)\n",
    "            for row in csv.reader(input):\n",
    "                if any(field.strip() for field in row):\n",
    "                    writer.writerow(row)"
   ]
  },
  {
   "cell_type": "code",
   "execution_count": 3,
   "id": "31f1c9c4",
   "metadata": {},
   "outputs": [],
   "source": [
    "def pdf_r():\n",
    "    path = r'static/Resumes'\n",
    "    all_files = glob.glob(path + \"/*.pdf\")\n",
    "    for pdf in all_files:\n",
    "        with fitz.open(pdf) as doc:\n",
    "            pypdf_text = \"\"\n",
    "            for page in doc:\n",
    "                pypdf_text += page.getText()\n",
    "# Append into csv file...................\n",
    "                List =[pypdf_text]\n",
    "    with open('static/Resumes/Resumes_Test.csv', 'a',encoding=\"utf-8\") as f_object:\n",
    "#             worksheet = sh.get_worksheet(0)\n",
    "#             worksheet.freeze_panes(1, 1)==\"Resumes\"\n",
    "            writer_object = writer(f_object)\n",
    "            writer_object.writerow(List)\n",
    "            f_object.close()\n",
    "\n",
    "def dataset_r():\n",
    "        with open('static/Resumes/Resumes_Test.csv' ,encoding=\"utf-8\") as input, open('static/Resumes/Resumes_Test_Final.csv', 'w', newline='' ,encoding=\"utf-8\")as output:\n",
    "            writer = csv.writer(output)\n",
    "            for row in csv.reader(input):\n",
    "                if any(field.strip() for field in row):\n",
    "                    writer.writerow(row)\n"
   ]
  },
  {
   "cell_type": "code",
   "execution_count": 4,
   "id": "164860eb",
   "metadata": {},
   "outputs": [],
   "source": [
    "# "
   ]
  },
  {
   "cell_type": "code",
   "execution_count": 5,
   "id": "8dc6822b",
   "metadata": {},
   "outputs": [],
   "source": [
    "# import io\n",
    "# import PyPDF2 \n",
    "\n",
    "# for pdf in all_files:\n",
    "#     with fitz.open(pdf) as doc:\n",
    "#         pypdf_text = \"\"\n",
    "#         for page in doc:\n",
    "#             pypdf_text += page.getText()\n",
    "# # Append into csv file................... \n",
    "#             List =[pypdf_text]\n",
    "#     with open('Test_ho_jana.csv', 'a',encoding=\"utf-8\") as f_object:\n",
    "#         writer_object = writer(f_object)\n",
    "#         writer_object.writerow(List)\n",
    "#         f_object.close()\n",
    "\n",
    "#     \n",
    "\n",
    "\n",
    "              "
   ]
  },
  {
   "cell_type": "code",
   "execution_count": 6,
   "id": "f757d6a8",
   "metadata": {},
   "outputs": [],
   "source": [
    "#  with open('Test_ho_jana.csv' ,encoding=\"utf-8\") as input, open('Test_Final_ho_gya.csv', 'w', newline='' ,encoding=\"utf-8\")as output:\n",
    "#         writer = csv.writer(output)\n",
    "#         for row in csv.reader(input):\n",
    "#             if any(field.strip() for field in row):\n",
    "#                 writer.writerow(row)"
   ]
  },
  {
   "cell_type": "code",
   "execution_count": null,
   "id": "6bb0bb1f",
   "metadata": {},
   "outputs": [],
   "source": []
  }
 ],
 "metadata": {
  "kernelspec": {
   "display_name": "Python 3 (ipykernel)",
   "language": "python",
   "name": "python3"
  },
  "language_info": {
   "codemirror_mode": {
    "name": "ipython",
    "version": 3
   },
   "file_extension": ".py",
   "mimetype": "text/x-python",
   "name": "python",
   "nbconvert_exporter": "python",
   "pygments_lexer": "ipython3",
   "version": "3.9.7"
  }
 },
 "nbformat": 4,
 "nbformat_minor": 5
}
