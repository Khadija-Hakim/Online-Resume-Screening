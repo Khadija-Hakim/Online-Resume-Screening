{
 "cells": [
  {
   "cell_type": "code",
   "execution_count": 1,
   "id": "126daff5",
   "metadata": {},
   "outputs": [],
   "source": [
    "# import pickle\n",
    "# with open('model.pkl', 'rb') as f:\n",
    "#     knn = pickle.load(f)"
   ]
  },
  {
   "cell_type": "code",
   "execution_count": 2,
   "id": "e636b77a",
   "metadata": {},
   "outputs": [
    {
     "data": {
      "text/html": [
       "<div>\n",
       "<style scoped>\n",
       "    .dataframe tbody tr th:only-of-type {\n",
       "        vertical-align: middle;\n",
       "    }\n",
       "\n",
       "    .dataframe tbody tr th {\n",
       "        vertical-align: top;\n",
       "    }\n",
       "\n",
       "    .dataframe thead th {\n",
       "        text-align: right;\n",
       "    }\n",
       "</style>\n",
       "<table border=\"1\" class=\"dataframe\">\n",
       "  <thead>\n",
       "    <tr style=\"text-align: right;\">\n",
       "      <th></th>\n",
       "      <th>Category</th>\n",
       "      <th>Resume</th>\n",
       "    </tr>\n",
       "  </thead>\n",
       "  <tbody>\n",
       "    <tr>\n",
       "      <th>0</th>\n",
       "      <td>ACCOUNTANT</td>\n",
       "      <td>ACCOUNTANT       Professional Summary     Curr...</td>\n",
       "    </tr>\n",
       "    <tr>\n",
       "      <th>1</th>\n",
       "      <td>ACCOUNTANT</td>\n",
       "      <td>ACCOUNTANT    Summary      Innovative and ener...</td>\n",
       "    </tr>\n",
       "  </tbody>\n",
       "</table>\n",
       "</div>"
      ],
      "text/plain": [
       "     Category                                             Resume\n",
       "0  ACCOUNTANT  ACCOUNTANT       Professional Summary     Curr...\n",
       "1  ACCOUNTANT  ACCOUNTANT    Summary      Innovative and ener..."
      ]
     },
     "execution_count": 2,
     "metadata": {},
     "output_type": "execute_result"
    }
   ],
   "source": [
    "import numpy as np\n",
    "import pandas as pd\n",
    "import matplotlib.pyplot as plt\n",
    "import seaborn as sns\n",
    "from matplotlib.gridspec import GridSpec\n",
    "import re, string, unicodedata\n",
    "import nltk\n",
    "# import contractions\n",
    "# import inflect\n",
    "from bs4 import BeautifulSoup\n",
    "from nltk import word_tokenize, sent_tokenize\n",
    "# from nltk.corpus import stopwords\n",
    "from nltk.stem import LancasterStemmer, WordNetLemmatizer\n",
    "from nltk.corpus import stopwords\n",
    "import string\n",
    "\n",
    "from sklearn.preprocessing import LabelEncoder\n",
    "from sklearn.model_selection import train_test_split\n",
    "from sklearn.feature_extraction.text import TfidfVectorizer\n",
    "from scipy.sparse import hstack\n",
    "import sklearn\n",
    "from sklearn.multiclass import OneVsRestClassifier\n",
    "from sklearn.multiclass import OneVsOneClassifier\n",
    "from sklearn.neighbors import KNeighborsClassifier\n",
    "from sklearn import metrics\n",
    "from ipynb.fs.full.functions_r_j import *\n",
    "\n",
    "data=pd.read_csv('Resume_Final_Dataset.csv',encoding='ISO-8859–1')\n",
    "# # data1=pd.read_csv('Resume.csv',encoding='ISO-8859–1')\n",
    "data.head(2)"
   ]
  },
  {
   "cell_type": "code",
   "execution_count": 3,
   "id": "95f22fe0",
   "metadata": {},
   "outputs": [
    {
     "name": "stdout",
     "output_type": "stream",
     "text": [
      "['ACCOUNTANT' 'Administrative Assistant' 'AGRICULTURE' 'Android Developer'\n",
      " 'BANKING' 'Business Analyst' 'CHEF' 'Civil Engineer' 'CONSTRUCTION'\n",
      " 'Data Science' 'Database Administrator' 'DESIGNER' 'DevOps Engineer'\n",
      " 'DotNet Developer' 'Electrical Engineering' 'ENGINEERING' 'FINANCE'\n",
      " 'Front End Developer' 'Graphic Designer' 'HEALTHCARE' 'HR'\n",
      " 'INFORMATION TECHNOLOGY' 'Java Developer' 'Lawyer' 'Machine Learning'\n",
      " 'Marketing Manager' 'Mechanical Engineer' 'Network Security Engineer'\n",
      " 'Operations Manager' 'PHP Developer' 'Project Manager' 'Public Relation'\n",
      " 'Python Developer' 'SALES' 'Sales Manager' 'TEACHER' 'Testing'\n",
      " 'Web Designing' 'Wordpress Developer']\n",
      "total unique category: 39\n"
     ]
    }
   ],
   "source": [
    "print(data['Category'].unique())\n",
    "print (\"total unique category: {}\". format(len(data['Category'].unique())))"
   ]
  },
  {
   "cell_type": "code",
   "execution_count": 4,
   "id": "989e66c3",
   "metadata": {},
   "outputs": [
    {
     "name": "stdout",
     "output_type": "stream",
     "text": [
      "SALES                        155\n",
      "HR                           153\n",
      "INFORMATION TECHNOLOGY       119\n",
      "CHEF                         117\n",
      "ACCOUNTANT                   116\n",
      "FINANCE                      116\n",
      "ENGINEERING                  115\n",
      "BANKING                      115\n",
      "HEALTHCARE                   113\n",
      "Public Relation              110\n",
      "CONSTRUCTION                 108\n",
      "DESIGNER                     106\n",
      "TEACHER                      102\n",
      "Java Developer                84\n",
      "Testing                       69\n",
      "AGRICULTURE                   63\n",
      "DevOps Engineer               55\n",
      "Python Developer              48\n",
      "Web Designing                 45\n",
      "Operations Manager            40\n",
      "Mechanical Engineer           40\n",
      "Data Science                  40\n",
      "Business Analyst              34\n",
      "Database Administrator        33\n",
      "Sales Manager                 32\n",
      "Electrical Engineering        30\n",
      "DotNet Developer              28\n",
      "Network Security Engineer     25\n",
      "Civil Engineer                24\n",
      "Administrative Assistant      23\n",
      "Project Manager               21\n",
      "Marketing Manager             20\n",
      "Lawyer                        16\n",
      "Android Developer             15\n",
      "PHP Developer                 15\n",
      "Wordpress Developer           13\n",
      "Graphic Designer              13\n",
      "Front End Developer           12\n",
      "Machine Learning              12\n",
      "Name: Category, dtype: int64\n"
     ]
    }
   ],
   "source": [
    "print(data['Category'].value_counts())"
   ]
  },
  {
   "cell_type": "code",
   "execution_count": 5,
   "id": "9be492d7",
   "metadata": {},
   "outputs": [
    {
     "data": {
      "text/plain": [
       "<AxesSubplot:xlabel='count', ylabel='Category'>"
      ]
     },
     "execution_count": 5,
     "metadata": {},
     "output_type": "execute_result"
    },
    {
     "data": {
      "image/png": "[encoded data removed]",
      "text/plain": [
       "<Figure size 1440x1080 with 1 Axes>"
      ]
     },
     "metadata": {
      "needs_background": "light"
     },
     "output_type": "display_data"
    }
   ],
   "source": [
    "plt.figure(figsize=(20,15))\n",
    "sns.countplot(y=\"Category\",data=data)"
   ]
  },
  {
   "cell_type": "code",
   "execution_count": 6,
   "id": "eb5221eb",
   "metadata": {},
   "outputs": [],
   "source": [
    "data['clean text']=data.Resume.apply(lambda x: clean_r(x))"
   ]
  },
  {
   "cell_type": "code",
   "execution_count": 7,
   "id": "2c8ca79a",
   "metadata": {},
   "outputs": [],
   "source": [
    "var_r=['Category']\n",
    "le=LabelEncoder()\n",
    "for i in var_r:\n",
    "    data[i]=le.fit_transform(data[i])"
   ]
  },
  {
   "cell_type": "code",
   "execution_count": 8,
   "id": "9f5a436b",
   "metadata": {},
   "outputs": [
    {
     "name": "stdout",
     "output_type": "stream",
     "text": [
      "{'ACCOUNTANT': 0, 'AGRICULTURE': 1, 'Administrative Assistant': 2, 'Android Developer': 3, 'BANKING': 4, 'Business Analyst': 5, 'CHEF': 6, 'CONSTRUCTION': 7, 'Civil Engineer': 8, 'DESIGNER': 9, 'Data Science': 10, 'Database Administrator': 11, 'DevOps Engineer': 12, 'DotNet Developer': 13, 'ENGINEERING': 14, 'Electrical Engineering': 15, 'FINANCE': 16, 'Front End Developer': 17, 'Graphic Designer': 18, 'HEALTHCARE': 19, 'HR': 20, 'INFORMATION TECHNOLOGY': 21, 'Java Developer': 22, 'Lawyer': 23, 'Machine Learning': 24, 'Marketing Manager': 25, 'Mechanical Engineer': 26, 'Network Security Engineer': 27, 'Operations Manager': 28, 'PHP Developer': 29, 'Project Manager': 30, 'Public Relation': 31, 'Python Developer': 32, 'SALES': 33, 'Sales Manager': 34, 'TEACHER': 35, 'Testing': 36, 'Web Designing': 37, 'Wordpress Developer': 38}\n"
     ]
    }
   ],
   "source": [
    "le_name_mapping = dict(zip(le.classes_, le.transform(le.classes_)))\n",
    "print(le_name_mapping)"
   ]
  },
  {
   "cell_type": "code",
   "execution_count": 9,
   "id": "84ff2f98",
   "metadata": {},
   "outputs": [
    {
     "name": "stdout",
     "output_type": "stream",
     "text": [
      "(2395, 2000)\n"
     ]
    }
   ],
   "source": [
    "text=data['clean text'].values  \n",
    "terget=data['Category'].values\n",
    "vect_r=TfidfVectorizer(sublinear_tf=True,stop_words='english',max_features=2000)   \n",
    "# Most frequent words\n",
    "vect_r.fit(text)\n",
    "\n",
    "Word_feature_r=vect_r.transform(text)\n",
    "# Word_feature=vect_r.fit_transform(text)\n",
    "\n",
    "print(Word_feature_r.shape)"
   ]
  },
  {
   "cell_type": "code",
   "execution_count": 10,
   "id": "169e52fd",
   "metadata": {},
   "outputs": [],
   "source": [
    "x_train=Word_feature_r\n",
    "y_train=terget"
   ]
  },
  {
   "cell_type": "code",
   "execution_count": 11,
   "id": "677f27b8",
   "metadata": {},
   "outputs": [
    {
     "data": {
      "text/plain": [
       "OneVsRestClassifier(estimator=KNeighborsClassifier(n_neighbors=3))"
      ]
     },
     "execution_count": 11,
     "metadata": {},
     "output_type": "execute_result"
    }
   ],
   "source": [
    "model=OneVsRestClassifier(KNeighborsClassifier(n_neighbors=3))\n",
    "model.fit(x_train, y_train)"
   ]
  },
  {
   "cell_type": "code",
   "execution_count": null,
   "id": "27a8d61b",
   "metadata": {},
   "outputs": [],
   "source": []
  },
  {
   "cell_type": "markdown",
   "id": "c2ecbf0d",
   "metadata": {},
   "source": [
    "# Training of Job descriptions"
   ]
  },
  {
   "cell_type": "code",
   "execution_count": 12,
   "id": "efba79c0",
   "metadata": {},
   "outputs": [
    {
     "data": {
      "text/html": [
       "<div>\n",
       "<style scoped>\n",
       "    .dataframe tbody tr th:only-of-type {\n",
       "        vertical-align: middle;\n",
       "    }\n",
       "\n",
       "    .dataframe tbody tr th {\n",
       "        vertical-align: top;\n",
       "    }\n",
       "\n",
       "    .dataframe thead th {\n",
       "        text-align: right;\n",
       "    }\n",
       "</style>\n",
       "<table border=\"1\" class=\"dataframe\">\n",
       "  <thead>\n",
       "    <tr style=\"text-align: right;\">\n",
       "      <th></th>\n",
       "      <th>category</th>\n",
       "      <th>jobDescription</th>\n",
       "    </tr>\n",
       "  </thead>\n",
       "  <tbody>\n",
       "    <tr>\n",
       "      <th>0</th>\n",
       "      <td>ACCOUNTANT</td>\n",
       "      <td>We are seeking an experienced Contract Auditor...</td>\n",
       "    </tr>\n",
       "    <tr>\n",
       "      <th>1</th>\n",
       "      <td>ACCOUNTANT</td>\n",
       "      <td>RSP, Inc. is aggressively growing its business...</td>\n",
       "    </tr>\n",
       "    <tr>\n",
       "      <th>2</th>\n",
       "      <td>ACCOUNTANT</td>\n",
       "      <td>Responsible for timely and accurate entry of i...</td>\n",
       "    </tr>\n",
       "    <tr>\n",
       "      <th>3</th>\n",
       "      <td>ACCOUNTANT</td>\n",
       "      <td>The accountant is a full-time national staff p...</td>\n",
       "    </tr>\n",
       "    <tr>\n",
       "      <th>4</th>\n",
       "      <td>ACCOUNTANT</td>\n",
       "      <td>The Armenian Forests NGO with funding from the...</td>\n",
       "    </tr>\n",
       "  </tbody>\n",
       "</table>\n",
       "</div>"
      ],
      "text/plain": [
       "     category                                     jobDescription\n",
       "0  ACCOUNTANT  We are seeking an experienced Contract Auditor...\n",
       "1  ACCOUNTANT  RSP, Inc. is aggressively growing its business...\n",
       "2  ACCOUNTANT  Responsible for timely and accurate entry of i...\n",
       "3  ACCOUNTANT  The accountant is a full-time national staff p...\n",
       "4  ACCOUNTANT  The Armenian Forests NGO with funding from the..."
      ]
     },
     "execution_count": 12,
     "metadata": {},
     "output_type": "execute_result"
    }
   ],
   "source": [
    "data_j=pd.read_csv('Job_Des_Final_Dataset.csv')\n",
    "data_j.head(5)"
   ]
  },
  {
   "cell_type": "code",
   "execution_count": 13,
   "id": "a85871e0",
   "metadata": {},
   "outputs": [
    {
     "name": "stdout",
     "output_type": "stream",
     "text": [
      "['ACCOUNTANT' 'Administrative Assistant' 'AGRICULTURE' 'Android Developer'\n",
      " 'BANKING' 'Busines Analyst' 'CHEF' 'Civil Engineer' 'CONSTRUCTION'\n",
      " 'Data Science' 'Database Administrator' 'DESIGNER' 'DevOps Engineer'\n",
      " 'DotNet Developer' 'Electrical Engineer' 'ENGINEERING' 'FINANCE'\n",
      " 'Front End Developer' 'Graphic Designer' 'HEALTHCARE' 'HR'\n",
      " 'INFORMATION TECHNOLOGY' 'Java Developer' 'Lawyer' 'Machine Learning'\n",
      " 'Marketing Manager' 'Mechanical Engineer' 'Network Security Engineer'\n",
      " 'Operations Manager' 'PHP Developer' 'Project Manager' 'Public Relation '\n",
      " 'Python Developer' 'SALES' 'Sales Manager' 'TEACHER' 'Testing'\n",
      " 'Web Designing' 'Wordpress Developer']\n",
      "total unique positions: 39\n"
     ]
    }
   ],
   "source": [
    "print(data_j['category'].unique())\n",
    "print (\"total unique positions: {}\". format(len(data_j['category'].unique())))"
   ]
  },
  {
   "cell_type": "code",
   "execution_count": 14,
   "id": "e0c36668",
   "metadata": {},
   "outputs": [
    {
     "name": "stdout",
     "output_type": "stream",
     "text": [
      "FINANCE                      306\n",
      "PHP Developer                245\n",
      "Web Designing                228\n",
      "Java Developer               213\n",
      "Machine Learning             201\n",
      "Lawyer                       180\n",
      "Front End Developer          175\n",
      "Data Science                 168\n",
      "Administrative Assistant     150\n",
      "ACCOUNTANT                   149\n",
      "DevOps Engineer              141\n",
      "Sales Manager                137\n",
      "HR                           137\n",
      "Wordpress Developer          132\n",
      "Project Manager              126\n",
      "INFORMATION TECHNOLOGY       125\n",
      "Database Administrator       119\n",
      "DotNet Developer              85\n",
      "Graphic Designer              74\n",
      "SALES                         70\n",
      "Python Developer              68\n",
      "DESIGNER                      56\n",
      "ENGINEERING                   51\n",
      "Marketing Manager             50\n",
      "Testing                       44\n",
      "CONSTRUCTION                  43\n",
      "Public Relation               40\n",
      "Android Developer             37\n",
      "Busines Analyst               31\n",
      "Civil Engineer                30\n",
      "CHEF                          29\n",
      "TEACHER                       29\n",
      "HEALTHCARE                    28\n",
      "Electrical Engineer           27\n",
      "BANKING                       20\n",
      "Network Security Engineer     20\n",
      "Operations Manager            18\n",
      "AGRICULTURE                   18\n",
      "Mechanical Engineer           17\n",
      "Name: category, dtype: int64\n"
     ]
    }
   ],
   "source": [
    "print(data_j['category'].value_counts())"
   ]
  },
  {
   "cell_type": "code",
   "execution_count": 15,
   "id": "037d851d",
   "metadata": {},
   "outputs": [],
   "source": [
    "# plt.figure(figsize=(20,15))\n",
    "# sns.countplot(y=\"category\",data_j=data_j)"
   ]
  },
  {
   "cell_type": "code",
   "execution_count": 16,
   "id": "ef3318e5",
   "metadata": {},
   "outputs": [],
   "source": [
    "data_j['clean text']=data_j.jobDescription.apply(lambda x: clean_j(x))"
   ]
  },
  {
   "cell_type": "code",
   "execution_count": 17,
   "id": "e6205f38",
   "metadata": {},
   "outputs": [],
   "source": [
    "var=['category']\n",
    "le_j=LabelEncoder()\n",
    "for i in var:\n",
    "    data_j[i]=le_j.fit_transform(data_j[i])"
   ]
  },
  {
   "cell_type": "code",
   "execution_count": 18,
   "id": "3e49b2c4",
   "metadata": {},
   "outputs": [
    {
     "name": "stdout",
     "output_type": "stream",
     "text": [
      "{'ACCOUNTANT': 0, 'AGRICULTURE': 1, 'Administrative Assistant': 2, 'Android Developer': 3, 'BANKING': 4, 'Busines Analyst': 5, 'CHEF': 6, 'CONSTRUCTION': 7, 'Civil Engineer': 8, 'DESIGNER': 9, 'Data Science': 10, 'Database Administrator': 11, 'DevOps Engineer': 12, 'DotNet Developer': 13, 'ENGINEERING': 14, 'Electrical Engineer': 15, 'FINANCE': 16, 'Front End Developer': 17, 'Graphic Designer': 18, 'HEALTHCARE': 19, 'HR': 20, 'INFORMATION TECHNOLOGY': 21, 'Java Developer': 22, 'Lawyer': 23, 'Machine Learning': 24, 'Marketing Manager': 25, 'Mechanical Engineer': 26, 'Network Security Engineer': 27, 'Operations Manager': 28, 'PHP Developer': 29, 'Project Manager': 30, 'Public Relation ': 31, 'Python Developer': 32, 'SALES': 33, 'Sales Manager': 34, 'TEACHER': 35, 'Testing': 36, 'Web Designing': 37, 'Wordpress Developer': 38}\n"
     ]
    }
   ],
   "source": [
    "le_j_name_mapping = dict(zip(le_j.classes_, le_j.transform(le_j.classes_)))\n",
    "print(le_j_name_mapping)"
   ]
  },
  {
   "cell_type": "code",
   "execution_count": 19,
   "id": "de3d8a69",
   "metadata": {},
   "outputs": [],
   "source": [
    "text_j=data_j['clean text'].values\n",
    "terget_j=data_j['category'].values\n",
    "test_text_j= data_j['clean text'].values\n",
    "vect_j=TfidfVectorizer(\n",
    "    sublinear_tf=True,\n",
    "    stop_words='english',\n",
    "    max_features=2000)\n",
    "\n",
    "vect_j.fit(text_j)\n",
    "\n",
    "Word_feature_j=vect_j.transform(text_j)"
   ]
  },
  {
   "cell_type": "code",
   "execution_count": 20,
   "id": "b46a89c9",
   "metadata": {},
   "outputs": [],
   "source": [
    "x_train_j=Word_feature_j\n",
    "y_train_j=terget_j\n",
    "# print(Word_feature_j)"
   ]
  },
  {
   "cell_type": "code",
   "execution_count": 21,
   "id": "08ca1d65",
   "metadata": {},
   "outputs": [
    {
     "data": {
      "text/plain": [
       "OneVsRestClassifier(estimator=KNeighborsClassifier())"
      ]
     },
     "execution_count": 21,
     "metadata": {},
     "output_type": "execute_result"
    }
   ],
   "source": [
    "model_j=OneVsRestClassifier(KNeighborsClassifier())\n",
    "model_j.fit(x_train_j, y_train_j)"
   ]
  },
  {
   "cell_type": "code",
   "execution_count": null,
   "id": "44ea117c",
   "metadata": {
    "scrolled": false
   },
   "outputs": [
    {
     "name": "stdout",
     "output_type": "stream",
     "text": [
      " * Serving Flask app \"__main__\" (lazy loading)\n",
      " * Environment: production\n",
      "\u001b[31m   WARNING: This is a development server. Do not use it in a production deployment.\u001b[0m\n",
      "\u001b[2m   Use a production WSGI server instead.\u001b[0m\n",
      " * Debug mode: off\n"
     ]
    },
    {
     "name": "stderr",
     "output_type": "stream",
     "text": [
      " * Running on all addresses.\n",
      "   WARNING: This is a development server. Do not use it in a production deployment.\n",
      " * Running on http://192.168.8.145:4455/ (Press CTRL+C to quit)\n",
      "192.168.8.145 - - [13/Jun/2022 08:32:44] \"GET / HTTP/1.1\" 200 -\n",
      "Deprecation: 'getText' removed from class 'Page' after v1.19 - use 'get_text'.\n"
     ]
    }
   ],
   "source": [
    "import flask\n",
    "from flask import Flask,render_template,request,session,redirect,url_for\n",
    "import json\n",
    "import os\n",
    "from tabula import read_pdf\n",
    "# import pandas as pd\n",
    "import tabula\n",
    "import csv\n",
    "import textract\n",
    "# from werkzeug import secure_filename\n",
    "from werkzeug.utils import secure_filename\n",
    "from werkzeug.datastructures import  FileStorage\n",
    "# import the functions of files...\n",
    "import glob\n",
    "# pip install ipynb\n",
    "from ipynb.fs.full.pdf_to_csv import *\n",
    "from ipynb.fs.full.functions_r_j import *\n",
    "# from pdf_csv import *\n",
    "\n",
    "# run a json file:\n",
    "with open('config.json', 'r') as c:\n",
    "    params = json.load(c)['params']\n",
    "\n",
    "app = Flask(__name__)\n",
    "app.secret_key = 'super-secret-key'\n",
    "# upload Function:\n",
    "# app.config['UPLOAD_FOLDER']= params['scan_now']\n",
    "# for Resumes\n",
    "\n",
    "app.config['UPLOAD_FOLDER']= params['upload_location']\n",
    "# for job_des\n",
    "app.config['UPLOAD_FILES']= params['upload_job']\n",
    "\n",
    "@app.route(\"/\")\n",
    "def home():\n",
    "    return render_template('index.html')\n",
    "# when click on Scan now.................\n",
    "\n",
    "@app.route(\"/about\")\n",
    "def about():\n",
    "    return render_template('about.html')\n",
    "\n",
    "# confidence_matrix = [[0 for x in range(3)] for y in range(len(20))]\n",
    "# confidence_matrix = [[0 for x in range(3)] for y in range(20)]\n",
    "\n",
    "@app.route('/upload', methods=['GET','POST'])\n",
    "def upload():\n",
    "    if flask.request.method == \"POST\":\n",
    "        maxInt = sys.maxsize\n",
    "        while True:\n",
    "    # decrease the maxInt value by factor 10 \n",
    "    # as long as the OverflowError occurs.\n",
    "            try:\n",
    "                csv.field_size_limit(maxInt)\n",
    "                break\n",
    "            except OverflowError:\n",
    "                maxInt = int(maxInt/10)\n",
    "        with open('static/Resumes/Resumes_Test.csv', 'a',encoding=\"utf-8\") as f_object:\n",
    "            writer_object = writer(f_object)\n",
    "            writer_object.writerow(['Resume'])\n",
    "            f_object.close()\n",
    "        files = flask.request.files.getlist(\"file\")\n",
    "        for file in files:\n",
    "            text=  file.save(os.path.join(app.config['UPLOAD_FOLDER'], file.filename))\n",
    "            pdf_r()\n",
    "            dataset_r()\n",
    "        test_data=pd.read_csv('static\\Resumes\\Resumes_Test_Final.csv',encoding='ISO-8859–1')\n",
    "        \n",
    "        test_data['clean text']=test_data.Resume.apply(lambda x: clean_r(x))  \n",
    "        \n",
    "        test_data= test_data['clean text'].values\n",
    "        \n",
    "        Word_feature_test=vect_r.transform(test_data)\n",
    "\n",
    "#         print(Word_feature_test.shape)\n",
    "        x_test=Word_feature_test   \n",
    "        prediction_r=model.predict(x_test)\n",
    "        prediction_r\n",
    "        print(prediction_r)\n",
    "#         for i in range(0 , len(test_data)):\n",
    "#             print([[max(j)]for j in model.predict_proba(x_test[i])])\n",
    "        \n",
    "        for i in range(0 , len(test_data)):\n",
    "            confidence_matrix[i][0]= prediction_r[i] # actual prediction\n",
    "            confidence_matrix[i][1]= [max(j)for j in model.predict_proba(x_test[i])][0] #confidence\n",
    "            confidence_matrix[i][2] = i # cv index of test instance\n",
    "        print(confidence_matrix)\n",
    "#         print(len(confidence_matrix))\n",
    "    \n",
    "#         vect=TfidfVectorizer(\n",
    "#             sublinear_tf=True,\n",
    "#             stop_words='english',\n",
    "#             max_features=2000)\n",
    "#         vect.fit(text)\n",
    "#         Word_feature=vect.transform(text)\n",
    "#         print(resume_test)\n",
    "    return \"Uploaded!\";\n",
    "\n",
    "confidence_matrix = [[0 for x in range(3)] for y in range(50)]\n",
    "# global prediction_j = 0\n",
    "@app.route(\"/uploader\", methods= ['GET','POST'] )\n",
    "def uploader():  \n",
    "    if(request.method == 'POST'):\n",
    "        maxInt = sys.maxsize\n",
    "        while True:\n",
    "    # decrease the maxInt value by factor 10 \n",
    "    # as long as the OverflowError occurs.\n",
    "            try:\n",
    "                csv.field_size_limit(maxInt)\n",
    "                break\n",
    "            except OverflowError:\n",
    "                maxInt = int(maxInt/10)\n",
    "        with open('static/job_des/job_Test.csv', 'a',encoding=\"utf-8\") as f_object:\n",
    "            writer_object = writer(f_object)\n",
    "            writer_object.writerow(['JobDescription'])\n",
    "            f_object.close()\n",
    "        f = request.files['file1']\n",
    "        f.save(os.path.join(app.config['UPLOAD_FILES'],secure_filename(f.filename)))\n",
    "        pdf_j()\n",
    "        dataset_j()\n",
    "        test_data_j=pd.read_csv('static\\job_des\\job_Test_Final.csv',encoding='ISO-8859–1')\n",
    "        test_data_j['clean text']=test_data_j.JobDescription.apply(lambda x: clean_j(x))\n",
    "        test_data_j = test_data_j['clean text'].values\n",
    "#         print(test_data_j)\n",
    "#         terget_j=test_data_j[test_data_j].values\n",
    "        Word_feature_jtest=vect_j.transform(test_data_j)\n",
    "#         print(Word_feature_jtest)\n",
    "        j_test=Word_feature_jtest\n",
    "        global prediction_j\n",
    "        prediction_j=model_j.predict(j_test)\n",
    "#         prediction_j\n",
    "        print(prediction_j)\n",
    "        \n",
    "    return \"Uploaded Successfully\";\n",
    "\n",
    "\n",
    "@app.route(\"/scan\", methods=['GET','POST'])\n",
    "def scan():\n",
    "    output =request.form.to_dict()\n",
    "    submit = output['submit']\n",
    "    \n",
    "#     scan = \"Choosing the right people for the job is the biggest responsibility of every business since choosing the right set of people can accelerate\"\n",
    "#     scan=\"These are files\"+listDir(FOLDER_PATH)\n",
    "#     print(scan)\n",
    "\n",
    "    \n",
    "#     scan1 = \"the Job Description is here\"\n",
    "    new_Confidence_matrix =[]\n",
    "    print(prediction_j)\n",
    "#     print(confidence_matrix)\n",
    "    for i in range(0 , len(confidence_matrix)):\n",
    "        if(confidence_matrix[i][0]== prediction_j):\n",
    "            new_Confidence_matrix.append(confidence_matrix[i])\n",
    "    new_Confidence_matrix=sorted(new_Confidence_matrix,reverse=True,key=lambda x: x[1])\n",
    "    print(new_Confidence_matrix)\n",
    "    path= r'static\\Resumes'\n",
    "    scan=glob.glob(path +\"/*.pdf\")\n",
    "    print(scan)\n",
    "    path_j = r'static\\job_des'\n",
    "    scan1 = glob.glob(path_j + \"/*.pdf\")\n",
    "    print(scan1)\n",
    "    new_Array=[]\n",
    "    for i in range(0,len(new_Confidence_matrix)):\n",
    "        if(len(new_Array)>9):\n",
    "            break\n",
    "        print(new_Confidence_matrix[i][2])\n",
    "        print(scan[new_Confidence_matrix[i][2]])\n",
    "        new_Array.append(scan[new_Confidence_matrix[i][2]])\n",
    "        \n",
    "\n",
    "    return render_template('/scan.html',submit= submit ,scan= new_Array, scan1= scan1)\n",
    "    \n",
    "@app.route(\"/contact\")\n",
    "def contact():\n",
    "    return render_template('/contact.html')\n",
    "@app.route(\"/work\")\n",
    "def work():\n",
    "    return render_template('/work.html')\n",
    "if __name__ == \"__main__\":\n",
    "    app.run(host=os.getenv('IP', '0.0.0.0'), \n",
    "    port=int(os.getenv('PORT', 4455)))\n",
    "   \n"
   ]
  },
  {
   "cell_type": "code",
   "execution_count": null,
   "id": "570df58d",
   "metadata": {},
   "outputs": [],
   "source": []
  },
  {
   "cell_type": "code",
   "execution_count": null,
   "id": "00f7cffe",
   "metadata": {},
   "outputs": [],
   "source": [
    "# resume_csv_r=pd.read_csv('static\\Resumes\\Resumes_Test_Final.csv',encoding='ISO-8859–1')\n",
    "# resume_test=clean_r(resume_csv_r)\n",
    "# print(resume_test)"
   ]
  },
  {
   "cell_type": "code",
   "execution_count": null,
   "id": "1c4a15a5",
   "metadata": {},
   "outputs": [],
   "source": []
  }
 ],
 "metadata": {
  "kernelspec": {
   "display_name": "Python 3 (ipykernel)",
   "language": "python",
   "name": "python3"
  },
  "language_info": {
   "codemirror_mode": {
    "name": "ipython",
    "version": 3
   },
   "file_extension": ".py",
   "mimetype": "text/x-python",
   "name": "python",
   "nbconvert_exporter": "python",
   "pygments_lexer": "ipython3",
   "version": "3.9.7"
  }
 },
 "nbformat": 4,
 "nbformat_minor": 5
}
